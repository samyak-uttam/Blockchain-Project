{
 "cells": [
  {
   "cell_type": "markdown",
   "metadata": {},
   "source": [
    "# Introduction\n",
    "\n",
    "Growing more food for the increased population while minimizing environmental footprints and ensuring transparency across the supply chain is essential for maximum customer satisfaction.\n",
    "\n",
    "Blockchain coupled with IoT has the potential to reshape the food production industry- from farm to grocery to home. By installing IoT sensors in the farms and sending its data directly to the blockchain can help enhance the food supply chain to a greater extent.\n",
    "\n",
    "<img src=\"images/flow_chart.png\" style=\"width:600;height:400px;\">\n",
    "<caption><center> <b>Corresponding flow chart</b> </center></caption>"
   ]
  },
  {
   "cell_type": "markdown",
   "metadata": {},
   "source": [
    "Import all the required packages."
   ]
  },
  {
   "cell_type": "code",
   "execution_count": 1,
   "metadata": {},
   "outputs": [],
   "source": [
    "import hashlib as hasher\n",
    "import datetime as date\n",
    "import random"
   ]
  },
  {
   "cell_type": "markdown",
   "metadata": {},
   "source": [
    "## Farmer class\n",
    "\n",
    "Stores the information about the farmer."
   ]
  },
  {
   "cell_type": "code",
   "execution_count": 2,
   "metadata": {},
   "outputs": [],
   "source": [
    "class Farmer:\n",
    "    def __init__(self, farmerID, name, location, crop, quantity, expectedPrice):\n",
    "        self.farmerID = farmerID\n",
    "        self.name = name\n",
    "        self.location = location\n",
    "        self.crop = crop\n",
    "        self.quantity = quantity\n",
    "        self.expectedPrice = expectedPrice"
   ]
  },
  {
   "cell_type": "markdown",
   "metadata": {},
   "source": [
    "## Block class\n",
    "\n",
    "It defines what information is present in each block. In this example we will store the index of the block, current Date and Time, farmer's details, previous hash and hash of current block."
   ]
  },
  {
   "cell_type": "code",
   "execution_count": 3,
   "metadata": {},
   "outputs": [],
   "source": [
    "class Block:\n",
    "    def __init__(self, index, dateTime, farmer, previous_hash):\n",
    "        self.index = index\n",
    "        self.dateTime = dateTime\n",
    "        self.farmer = farmer\n",
    "        self.previous_hash = previous_hash\n",
    "        self.hash = self.hash_block()\n",
    "    def hash_block(self):\n",
    "        sha = hasher.sha256()\n",
    "        sha.update((str(self.index)+str(self.farmer)+str(self.dateTime)+str(random.choice(\"abcdef\"))).encode(\"utf-8\"))\n",
    "        return sha.hexdigest()\n",
    "\n",
    "# Generate genesis block\n",
    "def create_genesis_block():\n",
    "    return Block(0, date.datetime.now(), \"Genesis Block\", \"0\")\n",
    "\n",
    "# Generate all later blocks in the blockchain\n",
    "def next_block(last_block, farmer):\n",
    "    this_index = last_block.index + 1\n",
    "    this_dateTime = date.datetime.now()\n",
    "    this_farmer = Farmer(farmer[0], farmer[1], farmer[2], farmer[3], farmer[4], farmer[5])\n",
    "    this_hash = last_block.hash\n",
    "    return Block(this_index, this_dateTime, this_farmer, this_hash)"
   ]
  },
  {
   "cell_type": "markdown",
   "metadata": {},
   "source": [
    "Create the blockchain and the **genesis block**."
   ]
  },
  {
   "cell_type": "code",
   "execution_count": 4,
   "metadata": {},
   "outputs": [],
   "source": [
    "blockchain = [create_genesis_block()]\n",
    "previous_block = blockchain[0]\n",
    "sizeofBlockchain = 1"
   ]
  },
  {
   "cell_type": "markdown",
   "metadata": {},
   "source": [
    "Print the details of the farmer"
   ]
  },
  {
   "cell_type": "code",
   "execution_count": 5,
   "metadata": {},
   "outputs": [],
   "source": [
    "def printFarmer(farmer):\n",
    "    print(\"Farmer's id: {}\".format(farmer.farmerID))\n",
    "    print(\"Farmer's name: {}\".format(farmer.name))\n",
    "    print(\"Farmer's location: {}\".format(farmer.location))\n",
    "    print(\"Crop name: {}\".format(farmer.crop))\n",
    "    print(\"Crop's quantity: {}\".format(farmer.quantity))\n",
    "    print(\"Expected Price: {}\\n\".format(farmer.expectedPrice))"
   ]
  },
  {
   "cell_type": "markdown",
   "metadata": {},
   "source": [
    "### Insertion a block to the blockchain."
   ]
  },
  {
   "cell_type": "code",
   "execution_count": 6,
   "metadata": {},
   "outputs": [],
   "source": [
    "def addBlock(previous_block, farmer):\n",
    "    # open the file blockchain.txt in append mode\n",
    "    f = open(\"blockchain.txt\",\"a\")\n",
    "    global sizeofBlockchain\n",
    "    \n",
    "    block_to_add = next_block(previous_block, farmer)\n",
    "    blockchain.append(block_to_add)\n",
    "    previous_block = block_to_add\n",
    "    print (\"Block #{} is now on the blockchain!\".format(block_to_add.index))\n",
    "    printFarmer(block_to_add.farmer)\n",
    "    f.write(block_to_add.hash+\"\\n\")\n",
    "\n",
    "    f.write(block_to_add.previous_hash+\"\\n\")\n",
    "    f.close()\n",
    "    sizeofBlockchain += 1\n",
    "    return previous_block"
   ]
  },
  {
   "cell_type": "markdown",
   "metadata": {},
   "source": [
    "## Validation of blockchain\n",
    "\n",
    "Validate the blockchain by cheking the hash of all the blocks with the previous hash of the next blocks.\n",
    "\n",
    "**NOTE:** Opening the file blockchain.txt is an abstraction, since this information would probably be sent by the request format."
   ]
  },
  {
   "cell_type": "code",
   "execution_count": 7,
   "metadata": {},
   "outputs": [],
   "source": [
    "def validate():\n",
    "    f=open(\"blockchain.txt\",\"r\")\n",
    "    counter = 0\n",
    "    content = f.readlines()\n",
    "    isValid = True\n",
    "    for i in range(0, len(content) - 3, 2):\n",
    "        curHash = content[i]\n",
    "        prevHash = content[i+3]\n",
    "        \n",
    "        if curHash != prevHash:\n",
    "            print(\"Blockchain is not valid!!\")\n",
    "            isValid = False\n",
    "            break\n",
    "        else:\n",
    "            counter = counter + 1\n",
    "    if isValid:\n",
    "        print(\"The blockchain is valid!!\")\n",
    "    return isValid"
   ]
  },
  {
   "cell_type": "markdown",
   "metadata": {},
   "source": [
    "Blocks in the blockchain will be added after the quality is assured, and blockchain is validated."
   ]
  },
  {
   "cell_type": "code",
   "execution_count": 8,
   "metadata": {},
   "outputs": [
    {
     "name": "stdout",
     "output_type": "stream",
     "text": [
      "The blockchain is valid!!\n",
      "Block #1 is now on the blockchain!\n",
      "Farmer's id: F11\n",
      "Farmer's name: Harilal\n",
      "Farmer's location: Delhi\n",
      "Crop name: Wheat\n",
      "Crop's quantity: 100 ton\n",
      "Expected Price: 1lakhs\n",
      "\n",
      "The blockchain is valid!!\n",
      "Block #2 is now on the blockchain!\n",
      "Farmer's id: F12\n",
      "Farmer's name: Shyamlal\n",
      "Farmer's location: UP\n",
      "Crop name: Mango\n",
      "Crop's quantity: 5 ton\n",
      "Expected Price: 50 thousands\n",
      "\n"
     ]
    }
   ],
   "source": [
    "# add 2 blocks to the blockchain\n",
    "if validate():\n",
    "    farmer1 = [\"F11\", \"Harilal\", \"Delhi\", \"Wheat\", \"100 ton\", \"1lakhs\"]\n",
    "    previous_block = addBlock(previous_block, farmer1)\n",
    "\n",
    "if validate():\n",
    "    farmer2 = [\"F12\", \"Shyamlal\", \"UP\", \"Mango\", \"5 ton\", \"50 thousands\"]\n",
    "    previous_block = addBlock(previous_block, farmer2)"
   ]
  },
  {
   "cell_type": "markdown",
   "metadata": {},
   "source": [
    "## Quality Assurance\n",
    "\n",
    "Now for any other person(importer, manufacturers etc.), they can get assured of the quality of the food by searching for the farmer by the farmer ID."
   ]
  },
  {
   "cell_type": "code",
   "execution_count": 9,
   "metadata": {},
   "outputs": [],
   "source": [
    "def getFarmer(farmerID):\n",
    "    for i in range(1, sizeofBlockchain):\n",
    "        if blockchain[i].farmer.farmerID == farmerID:\n",
    "            print(\"Farmer found, details are: \")\n",
    "            printFarmer(blockchain[i].farmer)\n",
    "            break\n",
    "    if i == sizeofBlockchain:\n",
    "        print(\"Wrong ID!\")"
   ]
  },
  {
   "cell_type": "code",
   "execution_count": 10,
   "metadata": {},
   "outputs": [
    {
     "name": "stdout",
     "output_type": "stream",
     "text": [
      "Farmer found, details are: \n",
      "Farmer's id: F11\n",
      "Farmer's name: Harilal\n",
      "Farmer's location: Delhi\n",
      "Crop name: Wheat\n",
      "Crop's quantity: 100 ton\n",
      "Expected Price: 1lakhs\n",
      "\n"
     ]
    }
   ],
   "source": [
    "getFarmer(\"F11\")"
   ]
  },
  {
   "cell_type": "markdown",
   "metadata": {},
   "source": [
    "# Conclusion\n",
    "\n",
    "Blockchain is a technology with very interesting properties and this is just one of these applications. Now as shown above blockchain, is a great solution to all the problems we face in the agriculture supply chain. And in the near furture most of the operations in this field will be performed with the help of blockchain."
   ]
  }
 ],
 "metadata": {
  "kernelspec": {
   "display_name": "Python 3",
   "language": "python",
   "name": "python3"
  },
  "language_info": {
   "codemirror_mode": {
    "name": "ipython",
    "version": 3
   },
   "file_extension": ".py",
   "mimetype": "text/x-python",
   "name": "python",
   "nbconvert_exporter": "python",
   "pygments_lexer": "ipython3",
   "version": "3.7.3"
  }
 },
 "nbformat": 4,
 "nbformat_minor": 4
}
