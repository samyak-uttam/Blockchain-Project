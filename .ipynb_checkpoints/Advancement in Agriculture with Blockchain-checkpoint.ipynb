{
 "cells": [
  {
   "cell_type": "markdown",
   "metadata": {},
   "source": [
    "# Introduction\n",
    "Growing more food for the increased population while minimizing environmental footprints and ensuring transparency across the supply chain is essential for maximum customer satisfaction.\n",
    "\n",
    "Blockchain coupled with IoT has the potential to reshape the food production industry- from farm to grocery to home. By installing IoT sensors in the farms and sending its data directly to the blockchain can help enhance the food supply chain to a greater extent.\n",
    "\n",
    "<img src=\"images/flow_chart.png\" style=\"width:600;height:400px;\">\n",
    "<caption><center> <b>Corresponding flow chart</b> </center></caption>"
   ]
  },
  {
   "cell_type": "markdown",
   "metadata": {},
   "source": [
    "Import all the required packages."
   ]
  },
  {
   "cell_type": "code",
   "execution_count": 1,
   "metadata": {},
   "outputs": [],
   "source": [
    "import hashlib as hasher\n",
    "import datetime as date\n",
    "import random"
   ]
  },
  {
   "cell_type": "markdown",
   "metadata": {},
   "source": [
    "## Block class\n",
    "It defines what information is present in each block. In this example we will store the index of the block, a string named date and a reading of a sensor."
   ]
  },
  {
   "cell_type": "code",
   "execution_count": 2,
   "metadata": {},
   "outputs": [],
   "source": [
    "class Block:\n",
    "    def __init__(self, index, sensor, data, previous_hash):\n",
    "        self.index = index\n",
    "        self.sensor = sensor\n",
    "        self.data = data\n",
    "        self.previous_hash = previous_hash\n",
    "        self.hash = self.hash_block()\n",
    "    def hash_block(self):\n",
    "        sha = hasher.sha256()\n",
    "        sha.update((str(self.index)+str(self.data)+str(self.sensor)+str(random.choice(\"abcdef\"))).encode(\"utf-8\"))\n",
    "        return sha.hexdigest()\n",
    "\n",
    "# Generate genesis block\n",
    "def create_genesis_block():\n",
    "    return Block(0, date.datetime.now(), \"Genesis Block\", \"0\")\n",
    "\n",
    "# Generate all later blocks in the blockchain\n",
    "def next_block(last_block):\n",
    "    this_index = last_block.index + 1\n",
    "    this_sensor = date.datetime.now()\n",
    "    this_data = \"Block: \" + str(this_index)\n",
    "    this_hash = last_block.hash\n",
    "    return Block(this_index, this_sensor, this_data, this_hash)"
   ]
  },
  {
   "cell_type": "markdown",
   "metadata": {},
   "source": [
    "Create the blockchain and the **genesis block**."
   ]
  },
  {
   "cell_type": "code",
   "execution_count": 3,
   "metadata": {},
   "outputs": [],
   "source": [
    "blockchain = [create_genesis_block()]\n",
    "previous_block = blockchain[0]"
   ]
  },
  {
   "cell_type": "code",
   "execution_count": 4,
   "metadata": {},
   "outputs": [],
   "source": [
    "def addBlocks(no_of_blocks, previous_block):\n",
    "    # open the file blockchain.txt in append mode\n",
    "    f = open(\"blockchain.txt\",\"a\")\n",
    "    \n",
    "    for i in range(0, no_of_blocks):\n",
    "        block_to_add = next_block(previous_block)\n",
    "        blockchain.append(block_to_add)\n",
    "        previous_block = block_to_add\n",
    "        print (\"Block #{} is now on the blockchain!\".format(block_to_add.index))\n",
    "        print (\"Hash: {}\".format(block_to_add.hash))\n",
    "        f.write(block_to_add.hash+\"\\n\")\n",
    "        if i!=0:\n",
    "            print(\"Previous: \"+ block_to_add.previous_hash)\n",
    "\n",
    "        f.write(block_to_add.previous_hash+\"\\n\")\n",
    "    f.close()\n",
    "    return previous_block"
   ]
  },
  {
   "cell_type": "code",
   "execution_count": 5,
   "metadata": {},
   "outputs": [
    {
     "name": "stdout",
     "output_type": "stream",
     "text": [
      "Block #1 is now on the blockchain!\n",
      "Hash: 0b135453432178f6f940415830a28067eea604d1df91278d1d18ed6f26acd698\n",
      "Block #2 is now on the blockchain!\n",
      "Hash: 6ebdd76d5c075e7f8fe05134cae907ee2ef210a1c780235e85792695203da0ca\n",
      "Previous: 0b135453432178f6f940415830a28067eea604d1df91278d1d18ed6f26acd698\n",
      "Block #3 is now on the blockchain!\n",
      "Hash: 2e9353e6f892b02be35300b39dd59d0cf061a3ebcef58b17d33b4b3d1570cfe8\n",
      "Previous: 6ebdd76d5c075e7f8fe05134cae907ee2ef210a1c780235e85792695203da0ca\n",
      "Block #4 is now on the blockchain!\n",
      "Hash: f989b57072d00ecae8bf126a511f1d7424364aa92be7fe53b2fff59344ef1c64\n",
      "Previous: 2e9353e6f892b02be35300b39dd59d0cf061a3ebcef58b17d33b4b3d1570cfe8\n"
     ]
    }
   ],
   "source": [
    "# add 4 blocks to the blockchain\n",
    "previous_block = addBlocks(4, previous_block)"
   ]
  },
  {
   "cell_type": "markdown",
   "metadata": {},
   "source": [
    "## Validation of blockchain\n",
    "\n",
    "Validate the blockchain by cheking the hash of all the blocks with the previous hash of the next blocks.\n",
    "\n",
    "**NOTE:** Opening the file blockchain.txt is an abstraction, since this information would probably be sent by the request format."
   ]
  },
  {
   "cell_type": "code",
   "execution_count": 6,
   "metadata": {},
   "outputs": [],
   "source": [
    "def validate():\n",
    "    f=open(\"blockchain.txt\",\"r\")\n",
    "    counter = 0\n",
    "    content = f.readlines()\n",
    "    for i in range(0, len(content) - 3, 2):\n",
    "        curHash = content[i]\n",
    "        prevHash = content[i+3]\n",
    "        \n",
    "        if curHash != prevHash:\n",
    "            print(\"Blockchain is not valid!!\")\n",
    "            break\n",
    "        else:\n",
    "            counter = counter + 1\n",
    "            print(\"Block \"+str(counter)+ \": OK!\")\n",
    "    if counter == (len(content)-2) / 2:\n",
    "        print(\"The blockchain is valid!!\")"
   ]
  },
  {
   "cell_type": "code",
   "execution_count": 7,
   "metadata": {},
   "outputs": [
    {
     "name": "stdout",
     "output_type": "stream",
     "text": [
      "Block 1: OK!\n",
      "Block 2: OK!\n",
      "Block 3: OK!\n",
      "The blockchain is valid!!\n"
     ]
    }
   ],
   "source": [
    "validate()"
   ]
  },
  {
   "cell_type": "code",
   "execution_count": null,
   "metadata": {},
   "outputs": [],
   "source": []
  }
 ],
 "metadata": {
  "kernelspec": {
   "display_name": "Python 3",
   "language": "python",
   "name": "python3"
  },
  "language_info": {
   "codemirror_mode": {
    "name": "ipython",
    "version": 3
   },
   "file_extension": ".py",
   "mimetype": "text/x-python",
   "name": "python",
   "nbconvert_exporter": "python",
   "pygments_lexer": "ipython3",
   "version": "3.7.3"
  }
 },
 "nbformat": 4,
 "nbformat_minor": 4
}
