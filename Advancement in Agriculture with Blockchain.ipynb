{
 "cells": [
  {
   "cell_type": "markdown",
   "metadata": {},
   "source": [
    "# Introduction\n",
    "Growing more food for the increased population while minimizing environmental footprints and ensuring transparency across the supply chain is essential for maximum customer satisfaction.\n",
    "\n",
    "Blockchain coupled with IoT has the potential to reshape the food production industry- from farm to grocery to home. By installing IoT sensors in the farms and sending its data directly to the blockchain can help enhance the food supply chain to a greater extent.\n",
    "\n",
    "<img src=\"images/flow_chart.png\" style=\"width:600;height:400px;\">\n",
    "<caption><center> <b>Corresponding flow chart</b> </center></caption>"
   ]
  },
  {
   "cell_type": "markdown",
   "metadata": {},
   "source": [
    "Import all the required packages."
   ]
  },
  {
   "cell_type": "code",
   "execution_count": 3,
   "metadata": {},
   "outputs": [],
   "source": [
    "import hashlib as hasher\n",
    "import datetime as date\n",
    "import random"
   ]
  },
  {
   "cell_type": "markdown",
   "metadata": {},
   "source": [
    "## Block class\n",
    "It defines what information is present in each block. In this example we will store the index of the block, a string named date and a reading of a sensor."
   ]
  },
  {
   "cell_type": "code",
   "execution_count": 5,
   "metadata": {},
   "outputs": [],
   "source": [
    "class Block:\n",
    "    def __init__(self, index, sensor, data, previous_hash):\n",
    "        self.index = index\n",
    "        self.sensor = int(random.choice('54'))\n",
    "        self.data = data\n",
    "        self.previous_hash = previous_hash\n",
    "        self.hash = self.hash_block()\n",
    "    def hash_block(self):\n",
    "        sha = hasher.sha256()\n",
    "        sha.update((str(self.index)+str(self.data)+str(self.sensor)+str(random.choice(\"abcdef\"))).encode(\"utf-8\"))\n",
    "        return sha.hexdigest()\n",
    "\n",
    "# Generate genesis block\n",
    "def create_genesis_block():\n",
    "    return Block(0, date.datetime.now(), \"Genesis Block\", \"0\")\n",
    "\n",
    "# Generate all later blocks in the blockchain\n",
    "def next_block(last_block):\n",
    "    this_index = last_block.index + 1\n",
    "    this_sensor = int(random.choice('54'))\n",
    "    this_data = \"Mensagem a enviar via string \" + str(this_index)\n",
    "    this_hash = last_block.hash\n",
    "    return Block(this_index, this_sensor, this_data, this_hash)"
   ]
  },
  {
   "cell_type": "code",
   "execution_count": null,
   "metadata": {},
   "outputs": [],
   "source": []
  }
 ],
 "metadata": {
  "kernelspec": {
   "display_name": "Python 3",
   "language": "python",
   "name": "python3"
  },
  "language_info": {
   "codemirror_mode": {
    "name": "ipython",
    "version": 3
   },
   "file_extension": ".py",
   "mimetype": "text/x-python",
   "name": "python",
   "nbconvert_exporter": "python",
   "pygments_lexer": "ipython3",
   "version": "3.7.3"
  }
 },
 "nbformat": 4,
 "nbformat_minor": 4
}
